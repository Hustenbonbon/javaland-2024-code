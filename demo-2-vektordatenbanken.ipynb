{
 "cells": [
  {
   "cell_type": "code",
   "execution_count": null,
   "metadata": {},
   "outputs": [],
   "source": [
    "from openai import OpenAI\n",
    "client = OpenAI()\n",
    "\n",
    "javaland_embedding = client.embeddings.create(input = [\"Javaland\"], model=\"text-embedding-3-small\").data[0].embedding\n",
    "\n",
    "print(javaland_embedding[:10])"
   ]
  },
  {
   "cell_type": "code",
   "execution_count": null,
   "metadata": {},
   "outputs": [],
   "source": [
    "import numpy\n",
    "\n",
    "javaland_embedding = numpy.array(client.embeddings.create(input = [\"Javaland\"], model=\"text-embedding-3-small\").data[0].embedding)\n",
    "\n",
    "java_embedding = numpy.array(client.embeddings.create(input = [\"Java\"], model=\"text-embedding-3-small\").data[0].embedding)\n",
    "\n",
    "python_embedding = numpy.array(client.embeddings.create(input = [\"Python\"], model=\"text-embedding-3-small\").data[0].embedding)\n",
    "\n",
    "java_dist = numpy.linalg.norm(javaland_embedding-java_embedding)\n",
    "\n",
    "print(\"Java to Javaland distance: \" + str(java_dist))\n",
    "\n",
    "python_dist = numpy.linalg.norm(javaland_embedding-python_embedding)\n",
    "\n",
    "print(\"Python to Javaland distance: \" + str(python_dist))\n"
   ]
  },
  {
   "cell_type": "code",
   "execution_count": null,
   "metadata": {},
   "outputs": [],
   "source": [
    "import json\n",
    "\n",
    "with open('./javaland-details.json', 'r') as file:\n",
    "    data = json.load(file)\n",
    "\n",
    "print(len(data))\n",
    "sessions = []\n",
    "for session in data:\n",
    "    if \"textSearch\" in session:\n",
    "        sessions.append(session)\n",
    "\n",
    "print(len(sessions))"
   ]
  },
  {
   "cell_type": "code",
   "execution_count": null,
   "metadata": {},
   "outputs": [],
   "source": [
    "import html2text\n",
    "\n",
    "h = html2text.HTML2Text()\n",
    "h.ignore_links\n",
    "\n",
    "head = sessions[:3]\n",
    "\n",
    "for session in head:\n",
    "    print(session[\"textSearch\"])\n",
    "    print(\"---------\")\n",
    "    print(h.handle(session[\"textSearch\"]))\n",
    "    print(\"+++++++++\")\n",
    "\n"
   ]
  },
  {
   "cell_type": "code",
   "execution_count": null,
   "metadata": {},
   "outputs": [],
   "source": [
    "from langchain_community.vectorstores import Chroma\n",
    "from langchain_openai import OpenAIEmbeddings\n",
    "\n",
    "with open('./javaland-agenda.json', 'r') as file:\n",
    "    sessions = json.load(file)\n",
    "\n",
    "texts = []\n",
    "metadatas = []\n",
    "for session in sessions:\n",
    "    title = f\"Titel: ${session[\"title\"]} /n\"\n",
    "    speakerstr = f\"Speaker: ${session[\"speaker\"]} /n\"\n",
    "    main_focus = f\"Main Focus: ${session[\"main_focus\"]} /n\" if \"main_focus\" in session else \"\"\n",
    "    text_description = h.handle(session[\"text\"])\n",
    "\n",
    "    text = title + speakerstr + main_focus + text_description\n",
    "    texts.append(text)\n",
    "\n",
    "db = Chroma.from_texts(\n",
    "        texts,\n",
    "        embedding=OpenAIEmbeddings(),\n",
    "        metadatas=sessions,\n",
    "        persist_directory=\"./chroma\"\n",
    "    )\n",
    "\n",
    "\n"
   ]
  },
  {
   "cell_type": "code",
   "execution_count": null,
   "metadata": {},
   "outputs": [],
   "source": [
    "db2 = Chroma(persist_directory=\"./chroma\", embedding_function=OpenAIEmbeddings())\n",
    "\n",
    "query = \"Which sessions are about AI?\"\n",
    "\n",
    "docs = db2.similarity_search(query)\n",
    "\n",
    "for doc in docs:\n",
    "    print(doc)\n",
    "\n",
    "\n"
   ]
  },
  {
   "cell_type": "code",
   "execution_count": null,
   "metadata": {},
   "outputs": [],
   "source": [
    "docs = db2.max_marginal_relevance_search(query)\n",
    "\n",
    "for doc in docs:\n",
    "    print(doc.metadata['title'])\n",
    "\n",
    "\n"
   ]
  },
  {
   "cell_type": "code",
   "execution_count": null,
   "metadata": {},
   "outputs": [],
   "source": [
    "docs = db2.similarity_search_with_score(query)\n",
    "\n",
    "for doc, score in docs:\n",
    "    print(doc.metadata['title'] + \"Score:\" + str(score))\n"
   ]
  },
  {
   "cell_type": "code",
   "execution_count": null,
   "metadata": {},
   "outputs": [],
   "source": [
    "docs = db2.similarity_search_with_score(query, filter={\"main_focus\":\"Data_Streaming_KI\"})\n",
    "\n",
    "for doc, score in docs:\n",
    "    print(doc.metadata['title'] + \"Score:\" + str(score))"
   ]
  }
 ],
 "metadata": {
  "kernelspec": {
   "display_name": "lang-demo",
   "language": "python",
   "name": "python3"
  },
  "language_info": {
   "codemirror_mode": {
    "name": "ipython",
    "version": 3
   },
   "file_extension": ".py",
   "mimetype": "text/x-python",
   "name": "python",
   "nbconvert_exporter": "python",
   "pygments_lexer": "ipython3",
   "version": "3.12.0"
  }
 },
 "nbformat": 4,
 "nbformat_minor": 2
}
